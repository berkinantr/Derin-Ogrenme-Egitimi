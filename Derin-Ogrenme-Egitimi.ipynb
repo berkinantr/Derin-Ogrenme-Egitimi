{
 "cells": [
  {
   "cell_type": "markdown",
   "metadata": {},
   "source": [
    "# Derin Ogrenme Egitimi Soru Sayfası"
   ]
  },
  {
   "cell_type": "markdown",
   "metadata": {},
   "source": [
    "Bu test sayfası bir akış halinde hazırlandı, cevaplayabildiğin soruları cevapladıktan sonra kaydedip bize göndermen gerekiyor.\n",
    "\n",
    "Eğer şuan buradaysan zaten yolun büyük bir kısmını halletmişsin demektir, dosyanı sağ üst taraftaki file menüsünde \"download as\" sekmesinden \".ipynp\" uzantılı olarak indirdikten sonra [Uludag Deep Learning mail adresi](mailto:uludagdeeplearning@gmail.com) gönderebilirsin.\n",
    "\n",
    "Başlama için hemen yukarıdaki \"Cell\" sekmesinden \"Run All\" sekmesine basabilirsin."
   ]
  },
  {
   "cell_type": "code",
   "execution_count": 6,
   "metadata": {},
   "outputs": [
    {
     "name": "stdout",
     "output_type": "stream",
     "text": [
      "Isminizi Girin= mer\n"
     ]
    }
   ],
   "source": [
    "isim = input(\"Isminizi Girin= \")"
   ]
  },
  {
   "cell_type": "code",
   "execution_count": 7,
   "metadata": {},
   "outputs": [
    {
     "name": "stdout",
     "output_type": "stream",
     "text": [
      "Hosgeldin mer, öncelikle burada olduğun için çok mutluyuz, seni bu test ile karşılaştırdığımız için biz de üzgünüz fakat adil bir seçim yapmamız gerekiyor.\n"
     ]
    }
   ],
   "source": [
    "print(\"Hosgeldin {}, öncelikle burada olduğun için çok mutluyuz, seni bu test ile karşılaştırdığımız için biz de üzgünüz fakat adil bir seçim yapmamız gerekiyor.\".format(isim))"
   ]
  },
  {
   "cell_type": "code",
   "execution_count": null,
   "metadata": {},
   "outputs": [],
   "source": []
  },
  {
   "cell_type": "markdown",
   "metadata": {},
   "source": [
    "## Python"
   ]
  },
  {
   "cell_type": "code",
   "execution_count": 8,
   "metadata": {},
   "outputs": [],
   "source": [
    "import numpy as np"
   ]
  },
  {
   "cell_type": "markdown",
   "metadata": {},
   "source": [
    "### Soru 0:\n",
    "\n",
    "Python Versiyonunuzu Yazdırın."
   ]
  },
  {
   "cell_type": "code",
   "execution_count": null,
   "metadata": {},
   "outputs": [],
   "source": []
  },
  {
   "cell_type": "markdown",
   "metadata": {},
   "source": [
    "### Soru 1:\n",
    "\n",
    "Telefon numaranızın son hanesindeki rakamdan başlayarak, son iki hanesindeki sayıya kadar devam eden bir liste oluşturun, bu listedeki sayıların ortalamasını ve toplamını yazdırın. (son iki hane uzunluğu 10'dan küçük olanlar için verilecek değer 70'dir.)"
   ]
  },
  {
   "cell_type": "code",
   "execution_count": null,
   "metadata": {},
   "outputs": [],
   "source": []
  },
  {
   "cell_type": "markdown",
   "metadata": {},
   "source": [
    "### Soru 2:"
   ]
  },
  {
   "cell_type": "code",
   "execution_count": null,
   "metadata": {},
   "outputs": [],
   "source": []
  },
  {
   "cell_type": "markdown",
   "metadata": {},
   "source": [
    "### Soru 3:\n",
    "\n",
    "Sigmoid fonksiyonunu, sigmoid adını verdiğiniz fonksiyonla tanımlayınız."
   ]
  },
  {
   "cell_type": "code",
   "execution_count": null,
   "metadata": {},
   "outputs": [],
   "source": []
  },
  {
   "cell_type": "code",
   "execution_count": null,
   "metadata": {},
   "outputs": [],
   "source": []
  },
  {
   "cell_type": "code",
   "execution_count": null,
   "metadata": {},
   "outputs": [],
   "source": []
  },
  {
   "cell_type": "raw",
   "metadata": {},
   "source": [
    "Örnek: \n",
    "    def fonk_smi(girdi):\n",
    "        sonuc = islem1*islem2/girdi\n",
    "        return sonuc"
   ]
  },
  {
   "cell_type": "code",
   "execution_count": null,
   "metadata": {},
   "outputs": [],
   "source": []
  },
  {
   "cell_type": "markdown",
   "metadata": {},
   "source": [
    "## Numpy"
   ]
  },
  {
   "cell_type": "markdown",
   "metadata": {},
   "source": [
    "### Soru 1:\n",
    "\n",
    "5x5 boyutunda, sıfırlar, birler ve random sayılar için matrisler oluşturun. Oluşturduğunuz iki random matrisi birbiriyle çarpın."
   ]
  },
  {
   "cell_type": "code",
   "execution_count": 9,
   "metadata": {},
   "outputs": [],
   "source": [
    "sifirlar = np.zeros([5,5])\n",
    "birler = np.ones([5,5])\n",
    "matris1 = np.random.rand(3,2)\n",
    "matris2 = np.random.rand(3,2)"
   ]
  },
  {
   "cell_type": "markdown",
   "metadata": {},
   "source": [
    "### Soru 2:\n",
    "\n",
    "100 Uzunluklu bir liste oluşturun, önce tek ve çift sayıları döngülerle tek ve çift adlı iki listeye ayırın, bu iki listeyi 5x10 boyutunda iki matris haline getirin."
   ]
  },
  {
   "cell_type": "code",
   "execution_count": 10,
   "metadata": {},
   "outputs": [],
   "source": [
    "sayilar = range(100)\n",
    "tek = []\n",
    "cift = []\n",
    "for sayi in sayilar:\n",
    "    if sayi % 2 == 0:\n",
    "        cift.append(sayi)\n",
    "    else:\n",
    "        tek.append(sayi)\n",
    "        \n",
    "tekmatris = np.array(tek)\n",
    "ciftmatris = np.array(cift)\n",
    "\n",
    "tek = tekmatris.reshape(5,10)\n",
    "cift = ciftmatris.reshape(5,10)"
   ]
  }
 ],
 "metadata": {
  "kernelspec": {
   "display_name": "Python 3",
   "language": "python",
   "name": "python3"
  },
  "language_info": {
   "codemirror_mode": {
    "name": "ipython",
    "version": 3
   },
   "file_extension": ".py",
   "mimetype": "text/x-python",
   "name": "python",
   "nbconvert_exporter": "python",
   "pygments_lexer": "ipython3",
   "version": "3.6.6"
  }
 },
 "nbformat": 4,
 "nbformat_minor": 2
}
